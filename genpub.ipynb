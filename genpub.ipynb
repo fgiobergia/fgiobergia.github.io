{
 "cells": [
  {
   "cell_type": "code",
   "execution_count": 37,
   "metadata": {},
   "outputs": [],
   "source": [
    "import pybtex\n",
    "from glob import glob\n",
    "import re\n",
    "import os\n",
    "import json"
   ]
  },
  {
   "cell_type": "code",
   "execution_count": 58,
   "metadata": {},
   "outputs": [
    {
     "data": {
      "text/plain": [
       "'Mining sensor data for predictive maintenance in the automotive industry'"
      ]
     },
     "execution_count": 58,
     "metadata": {},
     "output_type": "execute_result"
    }
   ],
   "source": [
    "from pybtex.database.input import bibtex\n"
   ]
  },
  {
   "cell_type": "code",
   "execution_count": 59,
   "metadata": {},
   "outputs": [],
   "source": [
    "def underline_fg(text):\n",
    "    text = text.replace(\"Flavio Giobergia\", \"<u>Flavio Giobergia</u>\")\n",
    "    text = text.replace(\"F Giobergia\", \"<u>F Giobergia</u>\")\n",
    "    return text\n",
    "    \n",
    "for fname in glob(\"files/*.txt\"):\n",
    "    basename = os.path.splitext(os.path.basename(fname))[0]\n",
    "    descr = pybtex.format_from_file(fname, style=\"plain\", output_backend=\"text\")\n",
    "    descr = underline_fg(descr)\n",
    "\n",
    "    entries = bibtex.Parser().parse_file('files/2018-mining-sensor-data.txt').entries\n",
    "    title = list(entries.values())[0].fields[\"title\"]\n",
    "\n",
    "    descr = descr.replace(title, f\"__{title}__\")\n",
    "\n",
    "    # add backslash to quotes\n",
    "    descr = re.sub(r\"([^\\\\])'\", r\"\\1\\\\'\", descr)\n",
    "    descr = re.sub(\"^\\[\\d+\\]\\s+\", \"\", descr).strip()\n",
    "    contents = f\"\"\"---\n",
    "collection: publications\n",
    "permalink: /publication/{basename}\n",
    "paperurl: '/files/{basename}.pdf'\n",
    "bibtex: '/files/{basename}.txt'\n",
    "citation: {json.dumps(descr)}\n",
    "---\"\"\"\n",
    "    \n",
    "    with open(f\"_publications/{basename}.md\", \"w\") as f:\n",
    "        f.write(contents)"
   ]
  }
 ],
 "metadata": {
  "kernelspec": {
   "display_name": "venv",
   "language": "python",
   "name": "python3"
  },
  "language_info": {
   "codemirror_mode": {
    "name": "ipython",
    "version": 3
   },
   "file_extension": ".py",
   "mimetype": "text/x-python",
   "name": "python",
   "nbconvert_exporter": "python",
   "pygments_lexer": "ipython3",
   "version": "3.11.5"
  },
  "orig_nbformat": 4
 },
 "nbformat": 4,
 "nbformat_minor": 2
}
