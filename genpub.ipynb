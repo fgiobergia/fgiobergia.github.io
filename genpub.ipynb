{
 "cells": [
  {
   "cell_type": "code",
   "execution_count": 37,
   "metadata": {},
   "outputs": [],
   "source": [
    "import pybtex\n",
    "from glob import glob\n",
    "import re\n",
    "import os\n",
    "import json"
   ]
  },
  {
   "cell_type": "code",
   "execution_count": 39,
   "metadata": {},
   "outputs": [],
   "source": [
    "for fname in glob(\"files/*.txt\"):\n",
    "    basename = os.path.splitext(os.path.basename(fname))[0]\n",
    "    descr = pybtex.format_from_file(fname, style=\"plain\", output_backend=\"text\")\n",
    "\n",
    "    # add backslash to quotes\n",
    "    descr = re.sub(r\"([^\\\\])'\", r\"\\1\\\\'\", descr)\n",
    "    descr = re.sub(\"^\\[\\d+\\]\\s+\", \"\", descr).strip()\n",
    "    contents = f\"\"\"---\n",
    "collection: publications\n",
    "permalink: /publication/{basename}\n",
    "paperurl: '/files/{basename}.pdf'\n",
    "citation: {json.dumps(descr)}\n",
    "---\"\"\"\n",
    "    \n",
    "    with open(f\"_publications/{basename}.md\", \"w\") as f:\n",
    "        f.write(contents)"
   ]
  }
 ],
 "metadata": {
  "kernelspec": {
   "display_name": "venv",
   "language": "python",
   "name": "python3"
  },
  "language_info": {
   "codemirror_mode": {
    "name": "ipython",
    "version": 3
   },
   "file_extension": ".py",
   "mimetype": "text/x-python",
   "name": "python",
   "nbconvert_exporter": "python",
   "pygments_lexer": "ipython3",
   "version": "3.11.5"
  },
  "orig_nbformat": 4
 },
 "nbformat": 4,
 "nbformat_minor": 2
}
