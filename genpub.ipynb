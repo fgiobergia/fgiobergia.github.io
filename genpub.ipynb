{
 "cells": [
  {
   "cell_type": "code",
   "execution_count": 7,
   "metadata": {},
   "outputs": [],
   "source": [
    "import pybtex\n",
    "from glob import glob\n",
    "import re\n",
    "import os\n",
    "import json"
   ]
  },
  {
   "cell_type": "code",
   "execution_count": 36,
   "metadata": {},
   "outputs": [
    {
     "name": "stdout",
     "output_type": "stream",
     "text": [
      " Dsle: a smart platform for designing data science competitions\n",
      " Giobergia at multi-task transformer tuning for joint conspiracy theory detection and classification\n",
      " Reclaim: reverse engineering classification metrics\n",
      " Baρtti at geolingit: beyond boundaries, enhancing geolocation prediction and dialect classification on social media in italy\n",
      " Dissecting a data-driven prognostic pipeline: a powertrain use case\n",
      " Silicon sensors with resistive read-out: machine learning techniques for ultimate spatial resolution\n",
      " Data-driven strategies for predictive maintenance: lesson learned from an automotive use case\n",
      " Time-of-flight cameras in space: pose estimation with deep learning methodologies\n",
      " Semantic image collection summarization with frequent subgraph mining\n",
      " Cross-lingual propagation of sentiment information based on bilingual vector space alignment\n",
      " Triplet losses-based matrix factorization for robust recommendations\n",
      " First experimental results of the spatial resolution of rsd pad arrays read out with a 16-ch board\n",
      " Mining sensor data for predictive maintenance in the automotive industry\n",
      " Fast self-organizing maps training\n"
     ]
    }
   ],
   "source": [
    "def underline_fg(text):\n",
    "    text = text.replace(\"Flavio Giobergia\", \"<u>Flavio Giobergia</u>\")\n",
    "    text = text.replace(\"F Giobergia\", \"<u>F Giobergia</u>\")\n",
    "    return text\n",
    "    \n",
    "for fname in glob(\"files/*.txt\"):\n",
    "    basename = os.path.splitext(os.path.basename(fname))[0]\n",
    "    descr = pybtex.format_from_file(fname, style=\"plain\", output_backend=\"text\")\n",
    "    descr = underline_fg(descr)\n",
    "\n",
    "    title = re.search(r\"\\.(.*?)\\.\", descr).group(1)\n",
    "    descr = descr.replace(title, f\"<i>{title}</i>\")\n",
    "    print(title)\n",
    "\n",
    "    # old way -- did not work with math in title\n",
    "    # entries = bibtex.Parser().parse_file(fname).entries\n",
    "    # title = list(entries.values())[0].fields[\"title\"]\n",
    "    # print(title)\n",
    "    # descr = re.sub(f\"({title})\", f\"<i>\\\\1</i>\", descr, flags=re.IGNORECASE)\n",
    "\n",
    "    # add backslash to quotes\n",
    "    descr = re.sub(r\"([^\\\\])'\", r\"\\1\\\\'\", descr)\n",
    "    descr = re.sub(\"^\\[\\d+\\]\\s+\", \"\", descr).strip()\n",
    "    contents = f\"\"\"---\n",
    "collection: publications\n",
    "permalink: /publication/{basename}\n",
    "paperurl: '/files/{basename}.pdf'\n",
    "bibtex: '/files/{basename}.txt'\n",
    "citation: '{descr}'\n",
    "---\"\"\"\n",
    "    \n",
    "    with open(f\"_publications/{basename}.md\", \"w\") as f:\n",
    "        f.write(contents)"
   ]
  }
 ],
 "metadata": {
  "kernelspec": {
   "display_name": "venv",
   "language": "python",
   "name": "python3"
  },
  "language_info": {
   "codemirror_mode": {
    "name": "ipython",
    "version": 3
   },
   "file_extension": ".py",
   "mimetype": "text/x-python",
   "name": "python",
   "nbconvert_exporter": "python",
   "pygments_lexer": "ipython3",
   "version": "3.11.5"
  },
  "orig_nbformat": 4
 },
 "nbformat": 4,
 "nbformat_minor": 2
}
